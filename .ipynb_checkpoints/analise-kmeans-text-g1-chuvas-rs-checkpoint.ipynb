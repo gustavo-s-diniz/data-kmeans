{
 "cells": [
  {
   "cell_type": "code",
   "execution_count": 1,
   "id": "3cedb39a",
   "metadata": {},
   "outputs": [],
   "source": [
    "import numpy as np\n",
    "import pandas as pd\n",
    "from sklearn.feature_extraction.text import TfidfVectorizer\n",
    "from sklearn.cluster import KMeans\n",
    "from joblib import dump"
   ]
  },
  {
   "cell_type": "code",
   "execution_count": 2,
   "id": "bc4b86ec",
   "metadata": {},
   "outputs": [],
   "source": [
    "# carregando o arquivo com as diversas noticias\n",
    "noticia = \"texts_reuters.txt\""
   ]
  },
  {
   "cell_type": "code",
   "execution_count": 3,
   "id": "1b25348b",
   "metadata": {},
   "outputs": [],
   "source": [
    "# Lendo o arquivo\n",
    "with open(noticia, 'r', encoding='utf-8') as file:\n",
    "    content = file.readlines()"
   ]
  },
  {
   "cell_type": "code",
   "execution_count": 4,
   "id": "a74e33dc",
   "metadata": {},
   "outputs": [],
   "source": [
    "# Criar um DataFrame a partir do conteúdo\n",
    "data = pd.DataFrame(content, columns=['text'])\n",
    "\n",
    "# Removendo espaços em branco extras e novas linhas\n",
    "data['text'] = data['text'].apply(lambda x: x.strip())"
   ]
  },
  {
   "cell_type": "code",
   "execution_count": 5,
   "id": "994e1f6e",
   "metadata": {},
   "outputs": [
    {
     "name": "stderr",
     "output_type": "stream",
     "text": [
      "/home/gustavosd/.pyenv/versions/3.10.6/envs/lewagon_current/lib/python3.10/site-packages/sklearn/cluster/_kmeans.py:1416: FutureWarning: The default value of `n_init` will change from 10 to 'auto' in 1.4. Set the value of `n_init` explicitly to suppress the warning\n",
      "  super()._check_params_vs_input(X, default_n_init=10)\n"
     ]
    },
    {
     "data": {
      "text/plain": [
       "['Puente, during a panel discussion in Salamanca on Friday, suggested Milei had ingested \"substances\" during last year\\'s election campaign.',\n",
       " 'The U.S. Department of Justice has said Vinnik \"allegedly owned, operated, and administrated BTC-e, a significant cybercrime and online money laundering entity that allowed its users to trade in bitcoin with high levels of anonymity and developed a customer base heavily reliant on criminal activity.\"',\n",
       " \"Porto Alegre's international airport has suspended all flights for an indefinite period.\",\n",
       " 'Judge Clive Sheldon upheld four out of five grounds of their legal challenge in a written ruling that Katie de Kauwe, a lawyer with Friends of the Earth, described as \"another embarrassing defeat for the government and its reckless and inadequate climate plans\".',\n",
       " 'On Wednesday, Fed Chairman Jerome Powell said he still believed rates were heading lower this year, despite stubborn inflation.',\n",
       " 'Heavy rains had already hit Rio Grande do Sul last September, as an extratropical cyclone caused floods that killed more than 50 people.',\n",
       " 'Still, \"rivers water levels should stay high for some days\", Governor Eduardo Leite said on Saturday in a live video on his social media, adding it is difficult to determine for how long.',\n",
       " 'May 3, 20243:35 PM GMT-3Updated 18 hours ago',\n",
       " \"Milei has publicly supported Spain's far-right anti-immigration Vox party.\",\n",
       " \"Milei's office released a statement on Saturday condemning the remarks while also attacking Spanish Prime Minister Pedro Sanchez.\"]"
      ]
     },
     "execution_count": 5,
     "metadata": {},
     "output_type": "execute_result"
    }
   ],
   "source": [
    "# Converter textos para uma matriz TF-IDF\n",
    "vectorizer = TfidfVectorizer(max_features=1000, stop_words='english')\n",
    "tfidf_matrix = vectorizer.fit_transform(data['text'])\n",
    "\n",
    "# Inicializando e executando o K-Means\n",
    "kmeans = KMeans(n_clusters=10, max_iter=10, random_state=42)\n",
    "kmeans.fit(tfidf_matrix)\n",
    "\n",
    "# Salvar o modelo para uso futuro\n",
    "dump(kmeans, 'modelo_kmeans.joblib')\n",
    "\n",
    "# Obter os centróides e etiquetas dos clusters\n",
    "centroids = kmeans.cluster_centers_\n",
    "labels = kmeans.labels_\n",
    "\n",
    "# Vincular as etiquetas de cluster de volta aos dados originais para análise\n",
    "data['cluster'] = labels\n",
    "cluster_summary = data.groupby('cluster').apply(lambda df: df.sample(1))['text'].tolist()\n",
    "\n",
    "cluster_summary"
   ]
  }
 ],
 "metadata": {
  "kernelspec": {
   "display_name": "Python 3 (ipykernel)",
   "language": "python",
   "name": "python3"
  },
  "language_info": {
   "codemirror_mode": {
    "name": "ipython",
    "version": 3
   },
   "file_extension": ".py",
   "mimetype": "text/x-python",
   "name": "python",
   "nbconvert_exporter": "python",
   "pygments_lexer": "ipython3",
   "version": "3.10.6"
  },
  "toc": {
   "base_numbering": 1,
   "nav_menu": {},
   "number_sections": true,
   "sideBar": true,
   "skip_h1_title": false,
   "title_cell": "Table of Contents",
   "title_sidebar": "Contents",
   "toc_cell": false,
   "toc_position": {},
   "toc_section_display": true,
   "toc_window_display": false
  }
 },
 "nbformat": 4,
 "nbformat_minor": 5
}
