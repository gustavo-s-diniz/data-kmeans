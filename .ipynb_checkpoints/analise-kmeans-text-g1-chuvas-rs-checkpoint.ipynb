{
 "cells": [
  {
   "cell_type": "code",
   "execution_count": 11,
   "id": "3cedb39a",
   "metadata": {},
   "outputs": [],
   "source": [
    "import numpy as np\n",
    "import pandas as pd\n",
    "from sklearn.feature_extraction.text import TfidfVectorizer\n",
    "from sklearn.cluster import KMeans\n",
    "from joblib import dump"
   ]
  },
  {
   "cell_type": "code",
   "execution_count": 12,
   "id": "5f598bd4",
   "metadata": {},
   "outputs": [],
   "source": [
    "# carregando o arquivo com as diversas noticias\n",
    "noticia = \"texts_reuters.txt\""
   ]
  },
  {
   "cell_type": "code",
   "execution_count": 13,
   "id": "91179697",
   "metadata": {},
   "outputs": [],
   "source": [
    "# Lendo o arquivo\n",
    "with open(noticia, 'r', encoding='utf-8') as file:\n",
    "    content = file.readlines()\n",
    "    \n",
    "# Removendo espaços em branco extras e novas linhas\n",
    "textos = [texto.strip() for texto in textos if texto.strip()]"
   ]
  },
  {
   "cell_type": "code",
   "execution_count": 14,
   "id": "443d51d2",
   "metadata": {},
   "outputs": [],
   "source": [
    "# Criar um DataFrame a partir do conteúdo\n",
    "data = pd.DataFrame(content, columns=['text'])"
   ]
  },
  {
   "cell_type": "code",
   "execution_count": 15,
   "id": "cdde93b6",
   "metadata": {},
   "outputs": [
    {
     "name": "stderr",
     "output_type": "stream",
     "text": [
      "/home/gustavosd/.pyenv/versions/3.10.6/envs/lewagon_current/lib/python3.10/site-packages/sklearn/cluster/_kmeans.py:1416: FutureWarning: The default value of `n_init` will change from 10 to 'auto' in 1.4. Set the value of `n_init` explicitly to suppress the warning\n",
      "  super()._check_params_vs_input(X, default_n_init=10)\n"
     ]
    },
    {
     "data": {
      "text/plain": [
       "['Alexander Vinnik, a 38 year old Russian man suspected of running a money laundering operation using bitcoin, is escorted by police officers to a court in Athens, Greece December 13, 2017. REUTERS/Costas Baltas/File Photo Purchase Licensing Rights\\n',\n",
       " 'May 3, 20243:35 PM GMT-3Updated 18 hours ago\\n',\n",
       " 'The lawyer, Arkady Bukh, said that as a result of the plea bargain he now expected Vinnik to get a prison term of less than 10 years.\\n',\n",
       " 'By David Randall\\n',\n",
       " \"Argentina's President Javier Milei speaks during a business event in Buenos Aires, Argentina, March 26, 2024. REUTERS/Agustin Marcarian/File Photo Purchase Licensing Rights\\n\",\n",
       " \"But stubbornly strong inflation has eroded prospects of rate cuts this year, and small cap stocks have suffered as a result. The Russell 2000 is up just 0.4% year-to-date, far less than the S&P 500's 7.5% gain. Earnings are also expected to be shaky, giving investors little reason to shift allocations from larger companies and other, less risky parts of their portfolios.\\n\",\n",
       " 'The U.S. Department of Justice has said Vinnik \"allegedly owned, operated, and administrated BTC-e, a significant cybercrime and online money laundering entity that allowed its users to trade in bitcoin with high levels of anonymity and developed a customer base heavily reliant on criminal activity.\"\\n',\n",
       " 'That came after more than two years of a persistent drought due to the La Nina phenomenon, with only scarce showers.\\n',\n",
       " 'In response, a spokesperson for the Department for Energy Security and Net Zero said: \"The UK can be hugely proud of its record on climate change.\"\\n',\n",
       " 'Item 1 of 9 A drone view shows a flooded city center after people were evacuated in Porto Alegre, in Rio Grande do Sul, Brazil, May 4, 2024. REUTERS/Renan Mattos\\n']"
      ]
     },
     "execution_count": 15,
     "metadata": {},
     "output_type": "execute_result"
    }
   ],
   "source": [
    "# Converter textos para uma matriz TF-IDF\n",
    "vectorizer = TfidfVectorizer(max_features=1000, stop_words='english')\n",
    "tfidf_matrix = vectorizer.fit_transform(data['text'])\n",
    "\n",
    "# Inicializando e executando o K-Means\n",
    "kmeans = KMeans(n_clusters=10, max_iter=10, random_state=42)\n",
    "kmeans.fit(tfidf_matrix)\n",
    "\n",
    "# Salvar o modelo para uso futuro\n",
    "dump(kmeans, 'modelo_kmeans.joblib')\n",
    "\n",
    "# Obter os centróides e etiquetas dos clusters\n",
    "centroids = kmeans.cluster_centers_\n",
    "labels = kmeans.labels_\n",
    "\n",
    "# Vincular as etiquetas de cluster de volta aos dados originais para análise\n",
    "data['cluster'] = labels\n",
    "cluster_summary = data.groupby('cluster').apply(lambda df: df.sample(1))['text'].tolist()\n",
    "\n",
    "cluster_summary"
   ]
  },
  {
   "cell_type": "code",
   "execution_count": 4,
   "id": "3ae61f6c",
   "metadata": {},
   "outputs": [],
   "source": [
    "# Vetorizando os textos com stop words em português\n",
    "vectorizer = TfidfVectorizer(stop_words='english')\n",
    "X = vectorizer.fit_transform(textos)"
   ]
  },
  {
   "cell_type": "code",
   "execution_count": 5,
   "id": "eeb759b8",
   "metadata": {},
   "outputs": [
    {
     "name": "stderr",
     "output_type": "stream",
     "text": [
      "/home/gustavosd/.pyenv/versions/3.10.6/envs/lewagon_current/lib/python3.10/site-packages/sklearn/cluster/_kmeans.py:1416: FutureWarning: The default value of `n_init` will change from 10 to 'auto' in 1.4. Set the value of `n_init` explicitly to suppress the warning\n",
      "  super()._check_params_vs_input(X, default_n_init=10)\n"
     ]
    }
   ],
   "source": [
    "# Aplicando o K-means\n",
    "kmeans = KMeans(n_clusters=2, random_state=0).fit(X)"
   ]
  },
  {
   "cell_type": "code",
   "execution_count": 6,
   "id": "aa6eba38",
   "metadata": {},
   "outputs": [
    {
     "name": "stdout",
     "output_type": "stream",
     "text": [
      "Documento 1, Cluster 0\n",
      "Documento 2, Cluster 1\n",
      "Documento 3, Cluster 1\n",
      "Documento 4, Cluster 0\n",
      "Documento 5, Cluster 1\n",
      "Documento 6, Cluster 1\n",
      "Documento 7, Cluster 1\n",
      "Documento 8, Cluster 1\n",
      "Documento 9, Cluster 0\n",
      "Documento 10, Cluster 0\n",
      "Documento 11, Cluster 1\n",
      "Documento 12, Cluster 0\n",
      "Documento 13, Cluster 1\n",
      "Documento 14, Cluster 0\n",
      "Documento 15, Cluster 0\n",
      "Documento 16, Cluster 0\n",
      "Documento 17, Cluster 0\n",
      "Documento 18, Cluster 0\n",
      "Documento 19, Cluster 0\n",
      "Documento 20, Cluster 0\n",
      "Documento 21, Cluster 0\n",
      "Documento 22, Cluster 0\n",
      "Documento 23, Cluster 0\n",
      "Documento 24, Cluster 0\n",
      "Documento 25, Cluster 0\n",
      "Documento 26, Cluster 0\n",
      "Documento 27, Cluster 0\n",
      "Documento 28, Cluster 0\n",
      "Documento 29, Cluster 0\n",
      "Documento 30, Cluster 0\n",
      "Documento 31, Cluster 0\n",
      "Documento 32, Cluster 0\n",
      "Documento 33, Cluster 0\n",
      "Documento 34, Cluster 0\n",
      "Documento 35, Cluster 0\n",
      "Documento 36, Cluster 0\n",
      "Documento 37, Cluster 0\n",
      "Documento 38, Cluster 0\n",
      "Documento 39, Cluster 0\n",
      "Documento 40, Cluster 0\n",
      "Documento 41, Cluster 0\n",
      "Documento 42, Cluster 0\n",
      "Documento 43, Cluster 0\n",
      "Documento 44, Cluster 0\n",
      "Documento 45, Cluster 0\n",
      "Documento 46, Cluster 0\n",
      "Documento 47, Cluster 0\n",
      "Documento 48, Cluster 0\n",
      "Documento 49, Cluster 0\n",
      "Documento 50, Cluster 0\n",
      "Documento 51, Cluster 0\n",
      "Documento 52, Cluster 0\n",
      "Documento 53, Cluster 0\n",
      "Documento 54, Cluster 0\n",
      "Documento 55, Cluster 0\n",
      "Documento 56, Cluster 0\n",
      "Documento 57, Cluster 0\n",
      "Documento 58, Cluster 0\n",
      "Documento 59, Cluster 0\n",
      "Documento 60, Cluster 0\n",
      "Documento 61, Cluster 0\n",
      "Documento 62, Cluster 0\n",
      "Documento 63, Cluster 0\n",
      "Documento 64, Cluster 0\n",
      "Documento 65, Cluster 0\n",
      "Documento 66, Cluster 0\n",
      "Documento 67, Cluster 0\n"
     ]
    }
   ],
   "source": [
    "# Mostrando os clusters\n",
    "cluster_labels = kmeans.labels_\n",
    "for i, label in enumerate(cluster_labels):\n",
    "    print(f\"Documento {i+1}, Cluster {label}\")"
   ]
  }
 ],
 "metadata": {
  "kernelspec": {
   "display_name": "Python 3 (ipykernel)",
   "language": "python",
   "name": "python3"
  },
  "language_info": {
   "codemirror_mode": {
    "name": "ipython",
    "version": 3
   },
   "file_extension": ".py",
   "mimetype": "text/x-python",
   "name": "python",
   "nbconvert_exporter": "python",
   "pygments_lexer": "ipython3",
   "version": "3.10.6"
  },
  "toc": {
   "base_numbering": 1,
   "nav_menu": {},
   "number_sections": true,
   "sideBar": true,
   "skip_h1_title": false,
   "title_cell": "Table of Contents",
   "title_sidebar": "Contents",
   "toc_cell": false,
   "toc_position": {},
   "toc_section_display": true,
   "toc_window_display": false
  }
 },
 "nbformat": 4,
 "nbformat_minor": 5
}
